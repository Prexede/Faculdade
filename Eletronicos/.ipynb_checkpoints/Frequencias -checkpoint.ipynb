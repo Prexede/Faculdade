{
 "cells": [
  {
   "cell_type": "markdown",
   "id": "1106defd",
   "metadata": {},
   "source": [
    "# Bibliotecas"
   ]
  },
  {
   "cell_type": "code",
   "execution_count": 1,
   "id": "78cdedf4",
   "metadata": {},
   "outputs": [],
   "source": [
    "import numpy as np\n",
    "import sympy\n",
    "import matplotlib.pyplot as plt\n",
    "from matplotlib.pyplot import figure"
   ]
  },
  {
   "cell_type": "markdown",
   "id": "39793c8f",
   "metadata": {},
   "source": [
    "## Componentes"
   ]
  },
  {
   "cell_type": "code",
   "execution_count": 45,
   "id": "f08b0d44",
   "metadata": {},
   "outputs": [],
   "source": [
    "K = 10**3\n",
    "u = 10**-6\n",
    "m = 10**-3\n",
    "\n",
    "#Resistores\n",
    "Rg = 100*K\n",
    "Rs = 3.9*K\n",
    "Rl = 100*K\n",
    "Rd = 8.2*K\n",
    "\n",
    "\n",
    "#Capacitores\n",
    "Cin = 1*u\n",
    "Cd = 100*u\n",
    "Co = 1*u\n",
    "\n",
    "#OUTROS\n",
    "Idss = 17.5*m\n",
    "Vp = -6.5\n",
    "Vpm = (np.fabs(Vp))\n",
    "       \n",
    "gm0 = (2*Idss)/(Vpm)\n",
    "\n",
    "## TESTE\n",
    "#Co = 0.5*u\n",
    "#Rd = 4.7*K\n",
    "#Rl = 2.2*K"
   ]
  },
  {
   "cell_type": "markdown",
   "id": "83e93932",
   "metadata": {},
   "source": [
    "## Ve se o Id ta certo"
   ]
  },
  {
   "cell_type": "code",
   "execution_count": 46,
   "id": "41ee2f50",
   "metadata": {},
   "outputs": [
    {
     "data": {
      "text/plain": [
       "[0.00122560011711889, 0.00226646337494460]"
      ]
     },
     "execution_count": 46,
     "metadata": {},
     "output_type": "execute_result"
    }
   ],
   "source": [
    "Id  = sympy.symbols('Id')\n",
    "expr = (Idss*(1-((-Id*Rs)/Vp))**2) - Id\n",
    "solucao = sympy.solve(expr, Id)\n",
    "solucao\n"
   ]
  },
  {
   "cell_type": "markdown",
   "id": "feb0bef3",
   "metadata": {},
   "source": [
    "## Vgs ?"
   ]
  },
  {
   "cell_type": "code",
   "execution_count": 47,
   "id": "c9c0cea3",
   "metadata": {},
   "outputs": [],
   "source": [
    "Id = solucao[0]\n",
    "Vgs = -Id*Rs"
   ]
  },
  {
   "cell_type": "markdown",
   "id": "ee106f28",
   "metadata": {},
   "source": [
    "## Gm"
   ]
  },
  {
   "cell_type": "code",
   "execution_count": 48,
   "id": "0e2cf19b",
   "metadata": {},
   "outputs": [],
   "source": [
    "gm = gm0*(1-(Vgs/Vp))"
   ]
  },
  {
   "cell_type": "markdown",
   "id": "597d227d",
   "metadata": {},
   "source": [
    "## Req"
   ]
  },
  {
   "cell_type": "code",
   "execution_count": 50,
   "id": "16c9a0b6",
   "metadata": {},
   "outputs": [],
   "source": [
    "Req = ((1/gm)*(Rs))/((1/gm)+(Rs))"
   ]
  },
  {
   "cell_type": "markdown",
   "id": "d395991a",
   "metadata": {},
   "source": [
    "\n",
    "## Frequencias"
   ]
  },
  {
   "cell_type": "code",
   "execution_count": 53,
   "id": "2aade3ee",
   "metadata": {},
   "outputs": [
    {
     "name": "stdout",
     "output_type": "stream",
     "text": [
      "1.5915494309189537 1.4709329306090142 2.67602244913817\n"
     ]
    }
   ],
   "source": [
    "## CAPACITOR DE ENTRADA\n",
    "Flg = 1/((2*np.pi)*(Rg)*Cin)\n",
    "\n",
    "## CAPACITOR DE SAIDA\n",
    "Flc = 1/((2*np.pi)*(Rd+Rl)*Co)\n",
    "\n",
    "## CAPACITOR DE ACOPLAMENTO\n",
    "Fls = 1/((2*np.pi)*(Req)*Cd)\n",
    "\n",
    "print(Flg,Flc,Fls)"
   ]
  },
  {
   "cell_type": "code",
   "execution_count": null,
   "id": "e6d56d62",
   "metadata": {},
   "outputs": [],
   "source": []
  }
 ],
 "metadata": {
  "kernelspec": {
   "display_name": "Python 3",
   "language": "python",
   "name": "python3"
  },
  "language_info": {
   "codemirror_mode": {
    "name": "ipython",
    "version": 3
   },
   "file_extension": ".py",
   "mimetype": "text/x-python",
   "name": "python",
   "nbconvert_exporter": "python",
   "pygments_lexer": "ipython3",
   "version": "3.7.7"
  }
 },
 "nbformat": 4,
 "nbformat_minor": 5
}
