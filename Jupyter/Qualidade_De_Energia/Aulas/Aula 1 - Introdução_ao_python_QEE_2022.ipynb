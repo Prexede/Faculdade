{
 "cells": [
  {
   "cell_type": "markdown",
   "metadata": {},
   "source": [
    "# Qualidade da Energia Elétrica (580562)"
   ]
  },
  {
   "cell_type": "markdown",
   "metadata": {},
   "source": [
    "# Introdução ao Python 3"
   ]
  },
  {
   "cell_type": "markdown",
   "metadata": {},
   "source": [
    "Sumário:\n",
    "- 0 - [Criando e atualizando variáveis](#0---Criando-e-atualizando-variáveis)\n",
    "- 1 - [Operações](#1---Operações)\n",
    "- 2 - [Comparação](#2---Comparação)\n",
    "- 3 - [Operadores lógicos](#3---Operadores-lógicos)\n",
    "- 4 - [Estruturas de decisão](#4---Estruturas-de-decisão)\n",
    "- 5 - [Estruturas de repetição](#5---Estruturas-de-repetição)\n",
    "- 6 - [Funções](#6---Funções)\n",
    "- 7 - [Listas, vetores e matrizes](#7---Listas,-vetores-e-matrizes)\n",
    "- 8 - [Operações com arrays](#8---Operações-com-arrays)\n",
    "- 9 - [Função lambda](#9---Função-lambda)\n",
    "- 10 - [Função map](#10---Função-map)\n",
    "- 11 - [Bibliotecas](#11---Bibliotecas)"
   ]
  },
  {
   "cell_type": "markdown",
   "metadata": {},
   "source": [
    "# 0 - Criando e atualizando variáveis"
   ]
  },
  {
   "cell_type": "markdown",
   "metadata": {},
   "source": [
    "- Int"
   ]
  },
  {
   "cell_type": "code",
   "execution_count": null,
   "metadata": {},
   "outputs": [],
   "source": [
    "a = 5\n",
    "print(a)"
   ]
  },
  {
   "cell_type": "markdown",
   "metadata": {},
   "source": [
    "- Float"
   ]
  },
  {
   "cell_type": "code",
   "execution_count": null,
   "metadata": {},
   "outputs": [],
   "source": [
    "b = 2.1\n",
    "print(b)"
   ]
  },
  {
   "cell_type": "markdown",
   "metadata": {},
   "source": [
    "- Complex"
   ]
  },
  {
   "cell_type": "code",
   "execution_count": null,
   "metadata": {},
   "outputs": [],
   "source": [
    "c = 1 + 2.1j\n",
    "print(c)"
   ]
  },
  {
   "cell_type": "markdown",
   "metadata": {},
   "source": [
    "- Atualizando variáveis"
   ]
  },
  {
   "cell_type": "code",
   "execution_count": null,
   "metadata": {},
   "outputs": [],
   "source": [
    "a, b, c = 1, 2, 3\n",
    "print(a,b,c)"
   ]
  },
  {
   "cell_type": "markdown",
   "metadata": {},
   "source": [
    "# 1 - Operações"
   ]
  },
  {
   "cell_type": "code",
   "execution_count": null,
   "metadata": {},
   "outputs": [],
   "source": [
    "x = 10\n",
    "t = 5\n",
    "print(x/t)"
   ]
  },
  {
   "cell_type": "code",
   "execution_count": null,
   "metadata": {},
   "outputs": [],
   "source": [
    "3*x + t -(x/2)"
   ]
  },
  {
   "cell_type": "code",
   "execution_count": null,
   "metadata": {},
   "outputs": [],
   "source": [
    "x**t"
   ]
  },
  {
   "cell_type": "markdown",
   "metadata": {},
   "source": [
    "# 2 - Comparação"
   ]
  },
  {
   "cell_type": "markdown",
   "metadata": {},
   "source": [
    "Python fornece operadores para as comparações mais comuns:\n",
    "<pre><b>==</b> igual\n",
    "<b>!=</b> diferente\n",
    "<b><</b> menor\n",
    "<b>></b> maior\n",
    "<b><=</b> menor ou igual\n",
    "<b>>=</b> maior ou igual\n",
    "</pre>"
   ]
  },
  {
   "cell_type": "code",
   "execution_count": null,
   "metadata": {},
   "outputs": [],
   "source": [
    "3 == 3"
   ]
  },
  {
   "cell_type": "code",
   "execution_count": null,
   "metadata": {},
   "outputs": [],
   "source": [
    "1 == 3"
   ]
  },
  {
   "cell_type": "code",
   "execution_count": null,
   "metadata": {},
   "outputs": [],
   "source": [
    "3 != 2"
   ]
  },
  {
   "cell_type": "code",
   "execution_count": null,
   "metadata": {},
   "outputs": [],
   "source": [
    "3 != 3"
   ]
  },
  {
   "cell_type": "code",
   "execution_count": null,
   "metadata": {},
   "outputs": [],
   "source": [
    "2.0 < 2.001"
   ]
  },
  {
   "cell_type": "code",
   "execution_count": null,
   "metadata": {},
   "outputs": [],
   "source": [
    "2 >= 0"
   ]
  },
  {
   "cell_type": "code",
   "execution_count": null,
   "metadata": {},
   "outputs": [],
   "source": [
    "'abc' == 'Abc'"
   ]
  },
  {
   "cell_type": "markdown",
   "metadata": {},
   "source": [
    "# 3 - Operadores lógicos"
   ]
  },
  {
   "cell_type": "markdown",
   "metadata": {},
   "source": [
    "Existem três operadores lógicos (booleanos) em Python:\n",
    "\n",
    "- and\n",
    "- or\n",
    "- not"
   ]
  },
  {
   "cell_type": "code",
   "execution_count": null,
   "metadata": {},
   "outputs": [],
   "source": [
    "1 < 2 and 5 > 4"
   ]
  },
  {
   "cell_type": "code",
   "execution_count": null,
   "metadata": {},
   "outputs": [],
   "source": [
    "7 < 2 or 5 > 4"
   ]
  },
  {
   "cell_type": "code",
   "execution_count": null,
   "metadata": {},
   "outputs": [],
   "source": [
    "not(7 < 2 or 5 > 4)"
   ]
  },
  {
   "cell_type": "markdown",
   "metadata": {},
   "source": [
    "# 4 - Estruturas de decisão"
   ]
  },
  {
   "cell_type": "markdown",
   "metadata": {},
   "source": [
    "- If"
   ]
  },
  {
   "cell_type": "code",
   "execution_count": null,
   "metadata": {},
   "outputs": [],
   "source": [
    "n = 10\n",
    "if n == 10:\n",
    "    print('entrou!')"
   ]
  },
  {
   "cell_type": "code",
   "execution_count": null,
   "metadata": {},
   "outputs": [],
   "source": [
    "if n != 11 or n < 10 or n > 14:\n",
    "    print('entrou!')"
   ]
  },
  {
   "cell_type": "markdown",
   "metadata": {},
   "source": [
    "- Elif"
   ]
  },
  {
   "cell_type": "code",
   "execution_count": null,
   "metadata": {},
   "outputs": [],
   "source": [
    "n = 3\n",
    "if n == 1:\n",
    "    print('n == 1')\n",
    "elif n == 2:\n",
    "    print('n == 2')\n",
    "elif n == 3:\n",
    "    print('n == 3')\n",
    "elif n == 4:\n",
    "    print('n == 4')"
   ]
  },
  {
   "cell_type": "markdown",
   "metadata": {},
   "source": [
    "- Else"
   ]
  },
  {
   "cell_type": "code",
   "execution_count": null,
   "metadata": {},
   "outputs": [],
   "source": [
    "n = -3\n",
    "if n >= 0:\n",
    "    print('n >= 0')\n",
    "else:\n",
    "    print('n < 0')"
   ]
  },
  {
   "cell_type": "code",
   "execution_count": null,
   "metadata": {},
   "outputs": [],
   "source": [
    "n = 0\n",
    "if n == 1:\n",
    "    print('n == 1')\n",
    "elif n == 2:\n",
    "    print('n == 2')\n",
    "elif n == 3:\n",
    "    print('n == 3')\n",
    "elif n == 4:\n",
    "    print('n == 4')\n",
    "else:\n",
    "    print('n não é 1, 2, 3 ou 4...')"
   ]
  },
  {
   "cell_type": "markdown",
   "metadata": {},
   "source": [
    "- If dentro de if"
   ]
  },
  {
   "cell_type": "code",
   "execution_count": null,
   "metadata": {},
   "outputs": [],
   "source": [
    "idade = 25\n",
    "sexo = 'f'\n",
    "if idade > 21:\n",
    "    print('idade > 21')\n",
    "    if sexo == 'f':\n",
    "        print('Bem vinda!')\n",
    "    else:\n",
    "        print('Bem vindo!')"
   ]
  },
  {
   "cell_type": "markdown",
   "metadata": {},
   "source": [
    "# 5 - Estruturas de repetição"
   ]
  },
  {
   "cell_type": "markdown",
   "metadata": {},
   "source": [
    "- While"
   ]
  },
  {
   "cell_type": "code",
   "execution_count": null,
   "metadata": {},
   "outputs": [],
   "source": [
    "n = 0\n",
    "while n < 3:\n",
    "    print(n)\n",
    "    n += 1"
   ]
  },
  {
   "cell_type": "code",
   "execution_count": null,
   "metadata": {},
   "outputs": [],
   "source": [
    "n = 0\n",
    "while 1 != 2 and n <= 3:\n",
    "    print(n, end = ' ')\n",
    "    n += 1"
   ]
  },
  {
   "cell_type": "code",
   "execution_count": null,
   "metadata": {},
   "outputs": [],
   "source": [
    "n = 10\n",
    "while n > 0:\n",
    "    if n == 15: \n",
    "        break\n",
    "    print(n, end = ' ')\n",
    "    n += 1\n",
    "print('saiu do while e n vale', n)"
   ]
  },
  {
   "cell_type": "code",
   "execution_count": null,
   "metadata": {},
   "outputs": [],
   "source": [
    "n = 0\n",
    "while n < 5:\n",
    "    n += 1\n",
    "    if n == 3:\n",
    "        continue\n",
    "    print(n, end = ' ')"
   ]
  },
  {
   "cell_type": "code",
   "execution_count": null,
   "metadata": {},
   "outputs": [],
   "source": [
    "n = 1\n",
    "while n < 0:\n",
    "    print('n < 0')\n",
    "    n += 1\n",
    "else:\n",
    "    print('Não entrou no while')"
   ]
  },
  {
   "cell_type": "markdown",
   "metadata": {},
   "source": [
    "- For"
   ]
  },
  {
   "cell_type": "code",
   "execution_count": null,
   "metadata": {},
   "outputs": [],
   "source": [
    "L = [1, 2, 3, 4]\n",
    "for i in L:\n",
    "    print('O iterador está no elemento',i)"
   ]
  },
  {
   "cell_type": "code",
   "execution_count": null,
   "metadata": {},
   "outputs": [],
   "source": [
    "L = [1.2, 4, 'string', -3]\n",
    "for i in L:\n",
    "    print('O iterador está no elemento',i)"
   ]
  },
  {
   "cell_type": "code",
   "execution_count": null,
   "metadata": {},
   "outputs": [],
   "source": [
    "for i in range(10):\n",
    "    print(i)"
   ]
  },
  {
   "cell_type": "code",
   "execution_count": null,
   "metadata": {},
   "outputs": [],
   "source": [
    "for i in range(0, 11):\n",
    "    print(i)"
   ]
  },
  {
   "cell_type": "code",
   "execution_count": null,
   "metadata": {},
   "outputs": [],
   "source": [
    "for i in range(0, 11, 2):\n",
    "    print(i)"
   ]
  },
  {
   "cell_type": "markdown",
   "metadata": {},
   "source": [
    "# 6 - Funções"
   ]
  },
  {
   "cell_type": "markdown",
   "metadata": {},
   "source": [
    "- Sem retorno"
   ]
  },
  {
   "cell_type": "code",
   "execution_count": null,
   "metadata": {},
   "outputs": [],
   "source": [
    "def mensagem():\n",
    "    print('Olá, humano!')"
   ]
  },
  {
   "cell_type": "code",
   "execution_count": null,
   "metadata": {},
   "outputs": [],
   "source": [
    "mensagem()"
   ]
  },
  {
   "cell_type": "markdown",
   "metadata": {},
   "source": [
    "- Com retorno"
   ]
  },
  {
   "cell_type": "code",
   "execution_count": null,
   "metadata": {},
   "outputs": [],
   "source": [
    "def soma(A, B):\n",
    "    return A+B"
   ]
  },
  {
   "cell_type": "code",
   "execution_count": null,
   "metadata": {},
   "outputs": [],
   "source": [
    "S = soma(10, 20)\n",
    "print(S)"
   ]
  },
  {
   "cell_type": "markdown",
   "metadata": {},
   "source": [
    "# 7 - Listas, vetores e matrizes"
   ]
  },
  {
   "cell_type": "markdown",
   "metadata": {},
   "source": [
    "- Lista"
   ]
  },
  {
   "cell_type": "code",
   "execution_count": null,
   "metadata": {},
   "outputs": [],
   "source": [
    "L = [1,2,3,5]\n",
    "L"
   ]
  },
  {
   "cell_type": "code",
   "execution_count": null,
   "metadata": {},
   "outputs": [],
   "source": [
    "M = [1.2,2.5,3.4,5.1]\n",
    "M"
   ]
  },
  {
   "cell_type": "code",
   "execution_count": null,
   "metadata": {},
   "outputs": [],
   "source": [
    "N = [-1,2.2,'text',5]\n",
    "N[1]"
   ]
  },
  {
   "cell_type": "code",
   "execution_count": null,
   "metadata": {},
   "outputs": [],
   "source": [
    "L+M+N"
   ]
  },
  {
   "cell_type": "markdown",
   "metadata": {},
   "source": [
    "- Vetor"
   ]
  },
  {
   "cell_type": "code",
   "execution_count": null,
   "metadata": {},
   "outputs": [],
   "source": [
    "import numpy as np\n",
    "a = np.array([1,2,3,4])\n",
    "print(a)"
   ]
  },
  {
   "cell_type": "code",
   "execution_count": null,
   "metadata": {},
   "outputs": [],
   "source": [
    "a[3]"
   ]
  },
  {
   "cell_type": "code",
   "execution_count": null,
   "metadata": {},
   "outputs": [],
   "source": [
    "d = np.zeros((4))\n",
    "print(d)"
   ]
  },
  {
   "cell_type": "markdown",
   "metadata": {},
   "source": [
    "- Matriz"
   ]
  },
  {
   "cell_type": "code",
   "execution_count": null,
   "metadata": {
    "scrolled": true
   },
   "outputs": [],
   "source": [
    "import numpy as np\n",
    "a = np.array([[1,2,3,4],[9,3,5,6],[1,1,1,1]])\n",
    "a"
   ]
  },
  {
   "cell_type": "code",
   "execution_count": null,
   "metadata": {},
   "outputs": [],
   "source": [
    "a[0]"
   ]
  },
  {
   "cell_type": "code",
   "execution_count": null,
   "metadata": {},
   "outputs": [],
   "source": [
    "a[2]"
   ]
  },
  {
   "cell_type": "code",
   "execution_count": null,
   "metadata": {},
   "outputs": [],
   "source": [
    "a[0,2]"
   ]
  },
  {
   "cell_type": "code",
   "execution_count": null,
   "metadata": {},
   "outputs": [],
   "source": [
    "a[:,2]"
   ]
  },
  {
   "cell_type": "code",
   "execution_count": null,
   "metadata": {},
   "outputs": [],
   "source": [
    "a[(0,1),1:2]"
   ]
  },
  {
   "cell_type": "code",
   "execution_count": null,
   "metadata": {},
   "outputs": [],
   "source": [
    "c = np.zeros((4,4))\n",
    "c"
   ]
  },
  {
   "cell_type": "markdown",
   "metadata": {},
   "source": [
    "# 8 - Operações com arrays"
   ]
  },
  {
   "cell_type": "markdown",
   "metadata": {},
   "source": [
    "- Vetores"
   ]
  },
  {
   "cell_type": "code",
   "execution_count": null,
   "metadata": {},
   "outputs": [],
   "source": [
    "a = np.array([1,2,3,4])\n",
    "b = np.array([5,6,7,8])"
   ]
  },
  {
   "cell_type": "code",
   "execution_count": null,
   "metadata": {},
   "outputs": [],
   "source": [
    "a+b # adição de vetores"
   ]
  },
  {
   "cell_type": "code",
   "execution_count": null,
   "metadata": {},
   "outputs": [],
   "source": [
    "a-b # subtração de vetores"
   ]
  },
  {
   "cell_type": "code",
   "execution_count": null,
   "metadata": {},
   "outputs": [],
   "source": [
    "b/a # divisão de vetores"
   ]
  },
  {
   "cell_type": "code",
   "execution_count": null,
   "metadata": {},
   "outputs": [],
   "source": [
    "a*b # multiplicação de vetores"
   ]
  },
  {
   "cell_type": "code",
   "execution_count": null,
   "metadata": {},
   "outputs": [],
   "source": [
    "a+2 # adição de valores"
   ]
  },
  {
   "cell_type": "code",
   "execution_count": null,
   "metadata": {},
   "outputs": [],
   "source": [
    "a*3 # multiplicação por valores"
   ]
  },
  {
   "cell_type": "code",
   "execution_count": null,
   "metadata": {},
   "outputs": [],
   "source": [
    "np.dot(a,b) # produto escalar"
   ]
  },
  {
   "cell_type": "code",
   "execution_count": null,
   "metadata": {},
   "outputs": [],
   "source": [
    "len(a) # tamanho do vetor a"
   ]
  },
  {
   "cell_type": "code",
   "execution_count": null,
   "metadata": {},
   "outputs": [],
   "source": [
    "print(a.shape) # tamanho/formato do vetor a"
   ]
  },
  {
   "cell_type": "code",
   "execution_count": null,
   "metadata": {},
   "outputs": [],
   "source": [
    "a = a.reshape(1,-1)\n",
    "print(a.shape)\n",
    "print(new_a_1)"
   ]
  },
  {
   "cell_type": "code",
   "execution_count": null,
   "metadata": {},
   "outputs": [],
   "source": [
    "a = a.reshape(-1,1)\n",
    "print(a.shape)\n",
    "print(new_a_1)"
   ]
  },
  {
   "cell_type": "markdown",
   "metadata": {},
   "source": [
    "- Matrizes"
   ]
  },
  {
   "cell_type": "code",
   "execution_count": null,
   "metadata": {},
   "outputs": [],
   "source": [
    "a = np.array([1,2,3,4])\n",
    "b = np.array([5,6,7,8])\n",
    "c = np.concatenate((a,b),axis=0) # concatenando dois vetores\n",
    "print(c)\n",
    "print(c.shape)"
   ]
  },
  {
   "cell_type": "code",
   "execution_count": null,
   "metadata": {},
   "outputs": [],
   "source": [
    "d = np.reshape(c,(2,4))\n",
    "print(d)\n",
    "print(d.shape)"
   ]
  },
  {
   "cell_type": "code",
   "execution_count": null,
   "metadata": {},
   "outputs": [],
   "source": [
    "e = np.array([[12,25,37,48],[9,3,5,6]]) # criando uma matriz 2x3\n",
    "print(e)\n",
    "print(e.shape)"
   ]
  },
  {
   "cell_type": "code",
   "execution_count": null,
   "metadata": {},
   "outputs": [],
   "source": [
    "f = d.transpose() # transposta da matriz d\n",
    "print(f)\n",
    "print(f.shape)"
   ]
  },
  {
   "cell_type": "code",
   "execution_count": null,
   "metadata": {},
   "outputs": [],
   "source": [
    "g = np.matmul(e,f) # multiplicando matrizes\n",
    "print(g)\n",
    "print(g.shape)"
   ]
  },
  {
   "cell_type": "code",
   "execution_count": null,
   "metadata": {},
   "outputs": [],
   "source": [
    "h = np.linalg.det(g) # calculando o determinante\n",
    "print(h)"
   ]
  },
  {
   "cell_type": "markdown",
   "metadata": {},
   "source": [
    "# 9 - Função lambda"
   ]
  },
  {
   "cell_type": "markdown",
   "metadata": {},
   "source": [
    "Funções lambda são conhecidas como funções anônimas. Enquanto funções normais podem ser criada utilizando def como prefixo, as funções lambda são criadas utilizando lambda.\n",
    "\n",
    "Para criar uma função lambda você deve utilizar a seguinte sintaxe:\n",
    "\n",
    "- lambda arguments: expression"
   ]
  },
  {
   "cell_type": "markdown",
   "metadata": {},
   "source": [
    "Exemplo:"
   ]
  },
  {
   "cell_type": "markdown",
   "metadata": {},
   "source": [
    "Considere uma função multiplicar()"
   ]
  },
  {
   "cell_type": "code",
   "execution_count": null,
   "metadata": {},
   "outputs": [],
   "source": [
    "def multiply(x, y):\n",
    "    return x * y"
   ]
  },
  {
   "cell_type": "markdown",
   "metadata": {},
   "source": [
    "Para realizarmos a multiplicação de dois números utilizando a função acima, precisamos chamar a função da seguinte forma:"
   ]
  },
  {
   "cell_type": "code",
   "execution_count": null,
   "metadata": {},
   "outputs": [],
   "source": [
    "multiply(5,9)"
   ]
  },
  {
   "cell_type": "markdown",
   "metadata": {},
   "source": [
    "Podemos criar a mesma função de mutiplicação por meio de uma função lambda:"
   ]
  },
  {
   "cell_type": "code",
   "execution_count": null,
   "metadata": {},
   "outputs": [],
   "source": [
    "r = lambda x, y: x * y"
   ]
  },
  {
   "cell_type": "code",
   "execution_count": null,
   "metadata": {},
   "outputs": [],
   "source": [
    "r(12, 3)"
   ]
  },
  {
   "cell_type": "markdown",
   "metadata": {},
   "source": [
    "# 10 - Função map"
   ]
  },
  {
   "cell_type": "markdown",
   "metadata": {},
   "source": [
    "A função map () retorna uma lista dos resultados após aplicar a função dada a cada item de um determinado iterável (lista, tupla etc.)\n",
    "\n",
    "Sintaxe: \n",
    "\n",
    "- map(function, iterable)\n",
    "\n",
    "Obs: O valor retornado de map() (map object) pode então ser passado para funções como list () (para criar uma lista)"
   ]
  },
  {
   "cell_type": "markdown",
   "metadata": {},
   "source": [
    "Exemplo 1:"
   ]
  },
  {
   "cell_type": "code",
   "execution_count": 2,
   "metadata": {},
   "outputs": [],
   "source": [
    "def addition(n): \n",
    "    return n + n"
   ]
  },
  {
   "cell_type": "code",
   "execution_count": 3,
   "metadata": {},
   "outputs": [
    {
     "name": "stdout",
     "output_type": "stream",
     "text": [
      "[2, 4, 6, 8]\n"
     ]
    }
   ],
   "source": [
    "numbers = [1, 2, 3, 4]\n",
    "result = map(addition, numbers) \n",
    "print(list(result)) "
   ]
  },
  {
   "cell_type": "markdown",
   "metadata": {},
   "source": [
    "Exemplo 2:"
   ]
  },
  {
   "cell_type": "code",
   "execution_count": null,
   "metadata": {},
   "outputs": [],
   "source": [
    "numbers = [1, 2, 3, 4]\n",
    "result = map(lambda x: x + x, numbers) \n",
    "print(list(result))"
   ]
  },
  {
   "cell_type": "markdown",
   "metadata": {},
   "source": [
    "# 11 - Bibliotecas"
   ]
  },
  {
   "cell_type": "markdown",
   "metadata": {},
   "source": [
    "Algumas das principais bibliotecas utilizadas em Data Science são:\n",
    "- Numpy: biblioteca básica que permite aos desenvolvedores executar funções matemáticas, gerar de números aleatórios, criar rotinas de álgebra linear, transformação de Fourier e muito mais.\n",
    "- Scipy: é composto por uma coleção de algoritmos e comandos de alto nível para manipular e visualizar dados. Ex.: calcular integrais numericamente, resolver equações diferenciais, otimização etc.\n",
    "- Pandas: adicionam estruturas de dados e ferramentas projetadas para análise prática de dados em finanças, ciências sociais e engenharia.\n",
    "- Matplotlib: é a biblioteca padrão do Python para criar gráficos e plotagens 2D.\n",
    "- Scikit-learn: baseia-se no NumPy e no SciPy incorporando algoritmos para tarefas comuns de aprendizado de máquina e mineração de dados, incluindo clustering, regressão e classificação.\n",
    "- TensorFlow: é uma biblioteca criada pela Google e  pode ser usada para criar modelos de Deep Learning."
   ]
  },
  {
   "cell_type": "markdown",
   "metadata": {},
   "source": [
    "Exemplos:"
   ]
  },
  {
   "cell_type": "markdown",
   "metadata": {},
   "source": [
    "- Numpy"
   ]
  },
  {
   "cell_type": "code",
   "execution_count": null,
   "metadata": {},
   "outputs": [],
   "source": [
    "import numpy as np\n",
    "# criando um vetor\n",
    "a = np.array([1, 2, 3, 4, 5]) \n",
    "print('vetor a')\n",
    "print(a)\n",
    "\n",
    "# criando uma matriz\n",
    "b = np.array([[1, 2, 3, 4, 5],[6,7,8,9,10]]) \n",
    "print('matriz b')\n",
    "print(b)\n",
    "\n",
    "# veridicando o maior e menor elemento em a\n",
    "print('Maior elemento em a:',np.amax(a))\n",
    "print('Posição maior elemento em a:',np.argmax(a))\n",
    "\n",
    "print('Menor elemento em a:',np.amin(a))\n",
    "print('Posição menor elemento em a:',np.argmin(a))\n",
    "\n",
    "# veridicando o maior e menor elemento em b\n",
    "from numpy import unravel_index\n",
    "print('Maior elemento em b:',np.amax(b))\n",
    "print('Posição maior elemento em b:',unravel_index(b.argmax(), b.shape))\n",
    "\n",
    "print('Menor elemento em b:',np.amin(b))\n",
    "print('Posição menor elemento em b:',unravel_index(b.argmin(), b.shape))"
   ]
  },
  {
   "cell_type": "code",
   "execution_count": null,
   "metadata": {},
   "outputs": [],
   "source": [
    "# Algumas funções trigonométricas\n",
    "print('Sin',np.sin(np.pi/2.))\n",
    "print('Cos',np.cos(np.pi/2.))\n",
    "print('Tan',np.tan(np.pi/2.))\n",
    "print('Arcsin',np.arcsin(1))\n",
    "print('Arccos',np.arccos(1))\n",
    "print('Arctan',np.arctan(1))"
   ]
  },
  {
   "cell_type": "code",
   "execution_count": null,
   "metadata": {},
   "outputs": [],
   "source": [
    "# Logaritmo\n",
    "print('ln',np.log(0.1))\n",
    "print('log10',np.log10(10))"
   ]
  },
  {
   "cell_type": "code",
   "execution_count": null,
   "metadata": {},
   "outputs": [],
   "source": [
    "# Gerando valores aletórios\n",
    "x1 = np.random.randint(20,300,size=(5)) # valores inteiros\n",
    "print('x1 = ',x1)\n",
    "\n",
    "x2 = np.random.randint(1,100, size=(3, 5))  # valores inteiros\n",
    "print('x2 = ',x2)\n",
    "\n",
    "x3 = np.random.choice([3, 5, 7, 9], size=(1,2))  # valores dentro de um conjunto de opções\n",
    "print('x3 = ',x3)\n",
    "\n",
    "x4 = np.random.uniform(0,1,size=(1,1)) # valores reais\n",
    "print('x4 = ',x4)"
   ]
  },
  {
   "cell_type": "code",
   "execution_count": null,
   "metadata": {},
   "outputs": [],
   "source": [
    "# Retorna números uniformemente espaçados em um intervalo especificado\n",
    "y = np.linspace(0, 2*np.pi, 64)\n",
    "print('y = '',y) \n",
    "      \n",
    "# calculando o cosseno de um vetor de valores\n",
    "res = np.cos(y)\n",
    "print('res = ',res)"
   ]
  },
  {
   "cell_type": "markdown",
   "metadata": {},
   "source": [
    "- Scipy"
   ]
  },
  {
   "cell_type": "code",
   "execution_count": null,
   "metadata": {},
   "outputs": [],
   "source": [
    "from scipy.optimize import root\n",
    "from math import cos\n",
    "\n",
    "def eqn1(x):\n",
    "  return x*x - 4\n",
    "\n",
    "def eqn2(x):\n",
    "  return x +np.cos(x)\n",
    "\n",
    "myroot = root(eqn1, 5)\n",
    "print(myroot.x)\n",
    "\n",
    "myroot = root(eqn2, 10)\n",
    "print(myroot.x)\n"
   ]
  },
  {
   "cell_type": "code",
   "execution_count": null,
   "metadata": {},
   "outputs": [],
   "source": [
    "from scipy.interpolate import interp1d\n",
    "import numpy as np\n",
    "\n",
    "xs = np.arange(10)\n",
    "ys = 2*xs + 1\n",
    "\n",
    "interp_func = interp1d(xs, ys)\n",
    "\n",
    "new_xs = np.arange(2.1, 3, 0.1)\n",
    "\n",
    "new_ys = interp_func(new_xs)\n",
    "\n",
    "print(new_ys)"
   ]
  },
  {
   "cell_type": "code",
   "execution_count": null,
   "metadata": {},
   "outputs": [],
   "source": [
    "# Calculando a integral de uma função\n",
    "from scipy import integrate\n",
    "f = lambda x : x**2\n",
    "# integral simples com a = 0 & b = 1  \n",
    "integration = integrate.quad(f, 0 , 1)\n",
    "print(integration) # primeiro valor representa o resultado e o segundo o erro"
   ]
  },
  {
   "cell_type": "markdown",
   "metadata": {},
   "source": [
    "- Pandas"
   ]
  },
  {
   "cell_type": "code",
   "execution_count": null,
   "metadata": {},
   "outputs": [],
   "source": [
    "# Criando um dataframe\n",
    "import pandas as pd\n",
    "\n",
    "data = {\n",
    "  \"calories\": [420, 380, 390],\n",
    "  \"duration\": [50, 40, 45]\n",
    "}\n",
    "\n",
    "#df = pd.DataFrame(data)\n",
    "df = pd.DataFrame(data, index = [\"day1\", \"day2\", \"day3\"])\n",
    "\n",
    "print(df) "
   ]
  },
  {
   "cell_type": "code",
   "execution_count": null,
   "metadata": {},
   "outputs": [],
   "source": [
    "# apresentar uma linha do dataframe\n",
    "print(df.loc['day1'])\n",
    "#print(df.loc[['day1','day2']])\n",
    "#print(df.iloc[0])"
   ]
  },
  {
   "cell_type": "code",
   "execution_count": null,
   "metadata": {},
   "outputs": [],
   "source": [
    "# Adicionando uma coluna no dataframe\n",
    "df = pd.DataFrame(data=np.array([[1, 2, 3], [4, 5, 6], [7, 8, 9]]), columns=['A', 'B', 'C'])\n",
    "print(df)\n",
    "\n",
    "D = [0,5,6]\n",
    "\n",
    "df['D'] = D\n",
    "\n",
    "# Print `df`\n",
    "print('\\n',df)"
   ]
  },
  {
   "cell_type": "code",
   "execution_count": null,
   "metadata": {},
   "outputs": [],
   "source": [
    "# Removendo uma coluna do dataframe\n",
    "df.pop('D')\n",
    "#df = df.drop(columns=['B', 'C'])\n",
    "df.head()"
   ]
  },
  {
   "cell_type": "code",
   "execution_count": null,
   "metadata": {},
   "outputs": [],
   "source": [
    "# Removendo uma linha do dataframe\n",
    "df = df.drop(0)\n",
    "df.head()"
   ]
  },
  {
   "cell_type": "code",
   "execution_count": null,
   "metadata": {
    "scrolled": true
   },
   "outputs": [],
   "source": [
    "import pandas as pd\n",
    "\n",
    "df = pd.read_csv('C:\\\\Users\\\\ander\\\\Desktop\\\\dados.csv',sep=';',header=None)\n",
    "\n",
    "print(df) "
   ]
  },
  {
   "cell_type": "markdown",
   "metadata": {},
   "source": [
    "- Matplotlib, Scikit-learn e TensorFlow serão apresentados nas próximas aulas"
   ]
  },
  {
   "cell_type": "code",
   "execution_count": null,
   "metadata": {},
   "outputs": [],
   "source": [
    "col_names=['A', 'B', 'C'] \n",
    "df = pd.read_csv('C:\\\\Users\\\\ander\\\\Desktop\\\\dados.csv',sep=';',names=col_names)\n",
    "df = df.rename(index = {0:'X', 1:'Y', 2:'Z'})\n",
    "df.head()"
   ]
  },
  {
   "cell_type": "markdown",
   "metadata": {},
   "source": [
    "# Exercícios"
   ]
  },
  {
   "cell_type": "markdown",
   "metadata": {},
   "source": [
    "Crie um novo arquivo do Jupyter Notebook e resolva as questões a seguir. IMPORTANTE: as questões deverão ser desenvolvidas em um único arquivo."
   ]
  },
  {
   "cell_type": "markdown",
   "metadata": {},
   "source": [
    "1) Faça um algoritmo que receba o horário de entrada e saída (em horas e minutos) de um funcionário de determinada empresa. Com base nestes horários, defina a quantidade de horas trabalhadas. Partindo-se da quantidade de horas trabalhadas defina em qual perfil salarial o funcionário se encontra: \n",
    "<pre>- Perfil A - R$ 30 hora ---> Trabalha menos que 4 horas por dia;\n",
    "- Perfil B - R$ 70 hora ---> Trabalha de 4 horas a 8 horas por dia;\n",
    "- Perfil C - R$ 90 hora ---> Trabalha mais do que 8 horas por dia.\n",
    "</pre>\n",
    "\n",
    "O algoritmo deverá apresentar ao usuário a quantidade de horas trabalhadas, o perfil do funcionário e seu salário diário."
   ]
  },
  {
   "cell_type": "markdown",
   "metadata": {},
   "source": [
    "2) Faça um algoritmo que calcule as raízes de uma função quadrática utilizando o método de Bháskara. O usuário deverá inserir os parâmetros \"a\", \"b\" e \"c\" da função e o algoritmo deverá retornar as raízes. Caso a função não possua raízes reais, o algoritmo deverá retornar uma mensagem de erro \"Raízes não reais\"."
   ]
  },
  {
   "cell_type": "markdown",
   "metadata": {},
   "source": [
    "3) Ler uma matriz A (MxN) de elementos inteiros, com M e N <= 10, e determinar a coluna que possui a maior soma de elementos. O total e os valores desta coluna devem ser exibidos. Em caso de empate, mostrar a coluna que aparece primeiro."
   ]
  },
  {
   "cell_type": "markdown",
   "metadata": {},
   "source": [
    "4) Faça um algoritmo que receba duas matrizes e, por meio de uma função, realize a multiplicação das mesmas. Caso o formato das matrizes recebidas não estejam adequadas para a operação, o programa deverá receber uma mensagem de erro. Além disso, as matrizes deverão ser preenchidas com valores aletórios entre 0 e 1."
   ]
  },
  {
   "cell_type": "markdown",
   "metadata": {},
   "source": [
    "5) Considere a equação v(t) = A*sin(w*t), com valor de pico igual a 1 e frequência igual a 60hz. Faça um algoritmo que receba um vetor t, que possui uma sequência de valores linearmente espaçados no tempo, aplique a equação apresentada e devolva um outro vetor (v) contendo os respectivos resultados. Para tanto, o vetor t deverá pertencer ao intervalo de 0 a 10 períodos, com uma taxa de amostragem de 256 amostras por ciclo."
   ]
  }
 ],
 "metadata": {
  "kernelspec": {
   "display_name": "Python 3 (ipykernel)",
   "language": "python",
   "name": "python3"
  },
  "language_info": {
   "codemirror_mode": {
    "name": "ipython",
    "version": 3
   },
   "file_extension": ".py",
   "mimetype": "text/x-python",
   "name": "python",
   "nbconvert_exporter": "python",
   "pygments_lexer": "ipython3",
   "version": "3.7.7"
  }
 },
 "nbformat": 4,
 "nbformat_minor": 2
}
