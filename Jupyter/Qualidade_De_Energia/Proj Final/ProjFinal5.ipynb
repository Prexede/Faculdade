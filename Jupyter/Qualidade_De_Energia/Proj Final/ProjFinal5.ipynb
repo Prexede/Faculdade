{
 "cells": [
  {
   "cell_type": "markdown",
   "id": "d1356abf",
   "metadata": {},
   "source": [
    "# Base de Dados"
   ]
  },
  {
   "cell_type": "markdown",
   "id": "9eaef99f",
   "metadata": {},
   "source": [
    "Bibliotecas"
   ]
  },
  {
   "cell_type": "code",
   "execution_count": 43,
   "id": "10bd05d0",
   "metadata": {},
   "outputs": [],
   "source": [
    "import numpy as np\n",
    "import pandas as pd\n",
    "import matplotlib.pyplot as plt\n",
    "from matplotlib.animation import FuncAnimation\n",
    "%matplotlib notebook"
   ]
  },
  {
   "cell_type": "markdown",
   "id": "2b5d3a11",
   "metadata": {},
   "source": [
    "## Sinal Fundamental"
   ]
  },
  {
   "cell_type": "code",
   "execution_count": 76,
   "id": "13b3d983",
   "metadata": {},
   "outputs": [],
   "source": [
    "# sinal fundamental\n",
    "N_periodos = 12\n",
    "freq = 50\n",
    "Amostras_ciclo = 128\n",
    "t = np.linspace(0, N_periodos*(1/freq), N_periodos*Amostras_ciclo)\n",
    "\n",
    "Sen = np.sqrt(2)*np.sin(2*np.pi*freq*t)"
   ]
  },
  {
   "cell_type": "markdown",
   "id": "67133421",
   "metadata": {},
   "source": [
    "### Carregar Valores"
   ]
  },
  {
   "cell_type": "code",
   "execution_count": 77,
   "id": "12912873",
   "metadata": {},
   "outputs": [],
   "source": [
    "Disturbios = pd.read_csv('Disturbios.csv',header=None, index_col=0, skiprows = 1)\n",
    "\n",
    "Resposta=Disturbios.to_numpy()"
   ]
  },
  {
   "cell_type": "code",
   "execution_count": 90,
   "id": "ddef93bc",
   "metadata": {},
   "outputs": [],
   "source": [
    "#Especificações\n",
    "\n",
    "#Qtd de disturbios\n",
    "Dis = int(len(Resposta/2))\n",
    "\n",
    "#Num de ciclos*Qtd de amostras\n",
    "NumA = Amostras_ciclo*N_periodos\n",
    "\n",
    "#Qtd de Janelas\n",
    "Jan = (N_periodos*Amostras_ciclo)-int(Amostras_ciclo/2)\n",
    "\n",
    "#Matriz com valores finais\n",
    "Matriz = np.zeros((len(Resposta),Jan))\n",
    "\n",
    "#Classificando disturbios/   0 Flicker / 1 Harmonico\n",
    "x = len(Resposta)\n",
    "target = np.zeros((x))\n",
    "target[0:int(x/2)] = 0\n",
    "target[int(x/2):x] = 1\n",
    "\n"
   ]
  },
  {
   "cell_type": "code",
   "execution_count": 92,
   "id": "809e311e",
   "metadata": {},
   "outputs": [],
   "source": [
    "def Extracao_Caract1(Janela):\n",
    "    \n",
    "    ## Fourrier\n",
    "    x = abs(np.fft.fft(Janela))\n",
    "    y = max(x)\n",
    "    z = x/y\n",
    "    fr = np.fft.fftfreq(len(Janela) , 1/(50*int(Amostras_ciclo/2)))\n",
    "    \n",
    "    #Descobrindo onde estao os harmonicos multiplos da freq fundamental e somando os valores\n",
    "    soma = 0\n",
    "    for i in range(25):\n",
    "        aux = np.where(fr == (freq*(i+2)))\n",
    "        harm = int(aux[0][0])\n",
    "        soma = (z[harm]**2) + soma\n",
    "    \n",
    "    #Valor final da distorçao\n",
    "    DHT = np.sqrt(soma)*100\n",
    "        \n",
    "    return(DHT)"
   ]
  },
  {
   "cell_type": "code",
   "execution_count": 93,
   "id": "f7a112d5",
   "metadata": {},
   "outputs": [],
   "source": [
    "#JANELAMENTO   \n",
    "\n",
    "for i in range(100):  #QTD Linhas\n",
    "    for j in range((N_periodos*Amostras_ciclo)-int(Amostras_ciclo/2)):  #QTD de janela\n",
    "        Janela = Resposta[i,j:(j+int(Amostras_ciclo/2))]\n",
    "        Janela = np.where(Janela == 0, 10e-11, Janela)\n",
    "        Matriz[i,j] = Extracao_Caract1(Janela)"
   ]
  },
  {
   "cell_type": "markdown",
   "id": "60250746",
   "metadata": {},
   "source": [
    "### DECISION TREE"
   ]
  },
  {
   "cell_type": "code",
   "execution_count": 113,
   "id": "733d78ac",
   "metadata": {},
   "outputs": [
    {
     "name": "stdout",
     "output_type": "stream",
     "text": [
      "De uma amostra de teste de 30 valores, temos: \n",
      "\n",
      "Valores testados\n",
      "13 da classe 0\n",
      "17 da classe 1\n",
      "\n",
      "Valores Reais\n",
      "14 da classe 0\n",
      "16 da classe 1\n",
      "\n",
      "Acurácia Final(%) : 96.66666666666667\n"
     ]
    }
   ],
   "source": [
    "from sklearn import preprocessing\n",
    "from sklearn.model_selection import train_test_split\n",
    "from sklearn import metrics \n",
    "from sklearn.tree import DecisionTreeClassifier \n",
    "\n",
    "\n",
    "#Banco de dados \n",
    "dados = pd.DataFrame(Matriz)\n",
    "new_dados=dados.assign(target = target)\n",
    "\n",
    "#entrada\n",
    "X  = dados\n",
    "\n",
    "#saida\n",
    "y = new_dados.target\n",
    "\n",
    "# Separando os dados em treinamento e teste\n",
    "X_train, X_test, y_train, y_test = train_test_split(X, y, test_size=0.3,random_state=1) # 70% treinamento and 30% teste\n",
    "\n",
    "# Criando o objeto classificador\n",
    "clf = DecisionTreeClassifier()\n",
    "\n",
    "# Treinando o classificador\n",
    "clf = clf.fit(X_train,y_train)\n",
    "\n",
    "# Testando o classificador criado\n",
    "y_pred = clf.predict(X_test)\n",
    "\n",
    "# Calculando a acurácia do classificador\n",
    "acc = metrics.accuracy_score(y_test, y_pred)\n",
    "\n",
    "print('De uma amostra de teste de',+len(y_pred), 'valores, temos: \\n')\n",
    "print('Valores testados')\n",
    "for i in range(2):\n",
    "    print(np.count_nonzero(y_pred == i),'da classe',+i)\n",
    "\n",
    "print('\\nValores Reais')\n",
    "for i in range(2):\n",
    "    print(np.count_nonzero(y_test == i),'da classe',+i)\n",
    "    \n",
    "print(\"\\nAcurácia Final(%) :\",acc*100)"
   ]
  },
  {
   "cell_type": "markdown",
   "id": "47733df2",
   "metadata": {},
   "source": [
    "### SVC"
   ]
  },
  {
   "cell_type": "code",
   "execution_count": 118,
   "id": "959d1342",
   "metadata": {},
   "outputs": [
    {
     "name": "stdout",
     "output_type": "stream",
     "text": [
      "De uma amostra de teste de 30 valores, temos: \n",
      "\n",
      "Valores testados\n",
      "14 da classe 0\n",
      "16 da classe 1\n",
      "\n",
      "Valores Reais\n",
      "14 da classe 0\n",
      "16 da classe 1\n",
      "\n",
      "Acurácia Final(%) : 95.0\n"
     ]
    }
   ],
   "source": [
    "import pandas as pd\n",
    "from sklearn.svm import SVC\n",
    "from sklearn.datasets import load_iris\n",
    "from sklearn.model_selection import train_test_split\n",
    "from sklearn import metrics \n",
    "\n",
    "\n",
    "#Banco de dados \n",
    "dados = pd.DataFrame(Matriz)\n",
    "new_dados=dados.assign(target = target)\n",
    "\n",
    "\n",
    "X  = dados\n",
    "y = new_dados.target\n",
    "\n",
    "# Separando os dados em treinamento e teste\n",
    "X_train, X_test, y_train, y_test = train_test_split(X, y, test_size=0.3, random_state=1) # 70% treinamento and 30% teste\n",
    "\n",
    "# Criando o objeto classificador\n",
    "clf = SVC()\n",
    "\n",
    "# Treinando o classificador\n",
    "clf = clf.fit(X_train,y_train)\n",
    "\n",
    "# Testando o classificador criado\n",
    "y_pred = clf.predict(X_test)\n",
    "\n",
    "# Calculando a acurácia do classificador\n",
    "acc = metrics.accuracy_score(y_test, y_pred)\n",
    "\n",
    "print('De uma amostra de teste de',+len(y_pred), 'valores, temos: \\n')\n",
    "print('Valores testados')\n",
    "for i in range(2):\n",
    "    print(np.count_nonzero(y_pred == i),'da classe',+i)\n",
    "\n",
    "print('\\nValores Reais')\n",
    "for i in range(2):\n",
    "    print(np.count_nonzero(y_test == i),'da classe',+i)\n",
    "    \n",
    "print(\"\\nAcurácia Final(%) :\",acc*100)"
   ]
  },
  {
   "cell_type": "markdown",
   "id": "82c1646b",
   "metadata": {},
   "source": [
    "### Estrutura da matriz de entrada\n",
    "\n",
    "               ['janela1', 'janela2', 'janela3', 'janela4']\n",
    "\n",
    "dist1 =            DHT        DHT       DHT       DHT   \n",
    "dist2 =            DHT        DHT       DHT       DHT   \n",
    "dist3 =            DHT        DHT       DHT       DHT   "
   ]
  }
 ],
 "metadata": {
  "kernelspec": {
   "display_name": "Python 3",
   "language": "python",
   "name": "python3"
  },
  "language_info": {
   "codemirror_mode": {
    "name": "ipython",
    "version": 3
   },
   "file_extension": ".py",
   "mimetype": "text/x-python",
   "name": "python",
   "nbconvert_exporter": "python",
   "pygments_lexer": "ipython3",
   "version": "3.7.7"
  }
 },
 "nbformat": 4,
 "nbformat_minor": 5
}
