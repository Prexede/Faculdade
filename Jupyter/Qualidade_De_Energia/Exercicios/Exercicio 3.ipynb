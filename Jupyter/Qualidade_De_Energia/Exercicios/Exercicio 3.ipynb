{
 "cells": [
  {
   "cell_type": "markdown",
   "id": "2100f497",
   "metadata": {},
   "source": [
    "### Exercícios "
   ]
  },
  {
   "cell_type": "markdown",
   "id": "bc7bdd57",
   "metadata": {},
   "source": [
    "1) Criar um algoritmo que carregue uma base de dados contendo vários sinais. Então, o algoritmo deverá realizar o janelamento do sinal e os novos dados em um único arquivo csv. É importante que cada linha do arquivo de saída contenha informações de qual sinal ele se refere da base de dados original e classe de distúrbio.\n",
    "\n",
    "2) Criar um algoritmo que carregue uma base de dados contendo vários sinais, extraia as 11 características abordadas nessa aula e salve os dados em um único arquivo csv.\n",
    "\n",
    "3) Escolher um dos algoritmos visto em aula e realizar, importar o  dataset wine do scikit-learn e realizar a classificação dos dados (https://scikit-learn.org/stable/modules/generated/sklearn.datasets.load_wine.html#sklearn.datasets.load_wine)."
   ]
  },
  {
   "cell_type": "code",
   "execution_count": 1,
   "id": "a18ccdce",
   "metadata": {},
   "outputs": [],
   "source": [
    "import pandas as pd \n",
    "import numpy as np\n",
    "\n",
    "Resposta = np.zeros((150,2560,8))\n",
    "\n",
    "#Func_Caracteristicas \n",
    "#[150] = linhas\n",
    "#[2560] = Colunas = Numero de Periodos*Amostras P/ Ciclo\n",
    "#[10] = Qtd de Caracteristicas\n",
    "#[8] = Index do disturbio\n",
    "\n",
    "\n",
    "#Lendo as repostas de disturbios\n",
    "\n",
    "#Afundamento [index 0]\n",
    "Afundamento = pd.read_csv('Afundamento.csv',header=None, index_col=0, skiprows = 1)\n",
    "Resposta[:,:,0] = Afundamento\n",
    "\n",
    "#Elevacao [index 1]\n",
    "Elevacao = pd.read_csv('Elevacao.csv',header=None, index_col=0, skiprows = 1)\n",
    "Resposta[:,:,1] = Elevacao\n",
    "\n",
    "#Interrupçao [index 2]\n",
    "Interrupçao = pd.read_csv('Interrupçao.csv',header=None, index_col=0, skiprows = 1)\n",
    "Resposta[:,:,2] = Interrupçao\n",
    "\n",
    "#Transitorio [index 3]\n",
    "Transitorio = pd.read_csv('Transitorio.csv',header=None, index_col=0, skiprows = 1)\n",
    "Resposta[:,:,3] = Transitorio\n",
    "\n",
    "#Impulsivo [index 4]\n",
    "Impulsivo = pd.read_csv('Impulsivo.csv',header=None, index_col=0, skiprows = 1)\n",
    "Resposta[:,:,4] = Impulsivo\n",
    "\n",
    "#FlickerA [index 5]\n",
    "FlickerA = pd.read_csv('FlickerA.csv',header=None, index_col=0, skiprows = 1)\n",
    "Resposta[:,:,5] = FlickerA\n",
    "\n",
    "#Notch [index 6]\n",
    "Notch = pd.read_csv('Notch.csv',header=None, index_col=0, skiprows = 1)\n",
    "Resposta[:,:,6] = Notch\n",
    "\n",
    "#Harmonica [index 7]\n",
    "Harmonica = pd.read_csv('Harmonica.csv',header=None, index_col=0, skiprows = 1)\n",
    "Resposta[:,:,7] = Harmonica\n",
    "\n",
    "\n"
   ]
  },
  {
   "cell_type": "markdown",
   "id": "0ca4dfe4",
   "metadata": {},
   "source": [
    "## JANELAMENTO AFUNDAMENTO"
   ]
  },
  {
   "cell_type": "markdown",
   "id": "c0cab36a",
   "metadata": {},
   "source": [
    "COMPARAR VALORES DO SINAL COM DISTURBIO E O SINAL FUNDAMENTAL \n",
    "VER SE sAO DIFERENTES \n",
    "SE SIM \n",
    "INTRODUZIR O TEMPO PARA A JANELA \n",
    "PEGAR O MENOR E MAIOR VALOR DA JANELA \n",
    "E FAZER A JANELA FINAL "
   ]
  },
  {
   "cell_type": "markdown",
   "id": "6f050bce",
   "metadata": {},
   "source": [
    "### Sinal Fundamental"
   ]
  },
  {
   "cell_type": "code",
   "execution_count": 5,
   "id": "f8b7dc33",
   "metadata": {},
   "outputs": [],
   "source": [
    "# parâmetros do sinal\n",
    "N_periodos = 20\n",
    "Amostras_ciclo = 128 \n",
    "freq = 60\n",
    "\n",
    "# sinal fundamental\n",
    "t = np.linspace(0, N_periodos*(1/freq), N_periodos*Amostras_ciclo)\n",
    "w = 2.0*np.pi*freq\n",
    "seno = np.sin(w*t)\n",
    "\n"
   ]
  },
  {
   "cell_type": "code",
   "execution_count": 3,
   "id": "01565f60",
   "metadata": {},
   "outputs": [],
   "source": [
    "##EXTRAÇÃO DE CARACTERISTICAS\n",
    "import numpy as np\n",
    "import matplotlib.pyplot as plt\n",
    "\n",
    "def Extracao_Caract(Janela):\n",
    "    \n",
    "    ## Media Harmônica\n",
    "    Med_Harmo = len(Janela)/sum(1/Janela)\n",
    "    \n",
    "    ## Desvio Padrao\n",
    "    Des_Padrao = np.sqrt(sum((Janela - np.mean(Janela))**2)/len(Janela))\n",
    "    \n",
    "    ## Desvio Médio \n",
    "    Des_Medio = (sum(abs(Janela - np.mean(Janela))))/len(Janela)\n",
    "    \n",
    "    ## Kurtosis\n",
    "    Kurt = ((1/len(Janela))*sum((Janela - np.mean(Janela))**4)) / ((1/len(Janela))*sum((Janela - np.mean(Janela))**2))**2\n",
    "    \n",
    "    #Entropia\n",
    "    Entrop = sum(np.log10(Janela**2))\n",
    "    \n",
    "    ## Entropia de Shannon\n",
    "    Ent_Sha = - sum((Janela**2)*(np.log10(Janela**2)))\n",
    "    \n",
    "    ## Valor Eficaz\n",
    "    Val_Ef = np.sqrt((1/len(Janela)*(sum(abs(Janela)))))\n",
    "    \n",
    "    ## Valor de Pico\n",
    "    Pico = max(Janela)\n",
    "    \n",
    "    ## Diferença entre o maior e o menor valor da janela \n",
    "    Dif = (max(Janela) - min(Janela))\n",
    "    \n",
    "    ## Distorção Harmônica Total\n",
    "    x = abs(np.fft.fft(Janela))\n",
    "    y = max(x)\n",
    "    z = x/y\n",
    "    fr = np.fft.fftfreq( Amostras_ciclo , 1/(freq*Amostras_ciclo))\n",
    "    \n",
    "    #Descobrindo onde estao os harmonicos multiplos de 60 e somando os valores\n",
    "    soma = 0\n",
    "    for i in range(6):\n",
    "        aux = np.where(fr == (freq*(i+2)))\n",
    "        harm = int(aux[0][0])\n",
    "        soma = (z[harm]**2) + soma\n",
    "    \n",
    "    #Valor final da distorçao\n",
    "    DHT = np.sqrt(soma)*100\n",
    "    \n",
    "    return (Med_Harmo,Des_Padrao,Des_Medio,Kurt,Entrop,Ent_Sha,Val_Ef,Pico,Dif,DHT)"
   ]
  },
  {
   "cell_type": "code",
   "execution_count": null,
   "id": "8d48bc49",
   "metadata": {},
   "outputs": [],
   "source": [
    "import matplotlib.pyplot as plt\n",
    "#for i in range((N_periodos*Amostras_ciclo)-(Amostras_ciclo)):\n",
    "    #Janela = Elevacao[i:(i+Amostras_ciclo)] \n",
    "Caracteristicas = np.zeros((100,((N_periodos*Amostras_ciclo)-(Amostras_ciclo)),8,10))\n",
    "\n",
    "\n",
    "#len(Resposta[0][0]) = 8  dimensao ???\n",
    "#len(Resposta) = 150      linhas\n",
    "#len(Resposta[0]) = 2560  colunas\n",
    "\n",
    "#JANELAMENTO   \n",
    "for k in range(8):\n",
    "    for i in range(10):  #TA EM 10 PQ MEU PC NAO AGUENTA MAIS\n",
    "        for j in range((N_periodos*Amostras_ciclo)-(Amostras_ciclo)):\n",
    "            Janela = Resposta[i,j:(j+Amostras_ciclo),k]\n",
    "            Janela = np.where(Janela == 0, 10e-11, Janela)\n",
    "            Caracteristicas[i,j,k,0],Caracteristicas[i,j,k,1],Caracteristicas[i,j,k,2],Caracteristicas[i,j,k,3],Caracteristicas[i,j,k,4],Caracteristicas[i,j,k,5],Caracteristicas[i,j,k,6],Caracteristicas[i,j,k,7],Caracteristicas[i,j,k,8],Caracteristicas[i,j,k,9] = Extracao_Caract(Janela)\n"
   ]
  },
  {
   "cell_type": "code",
   "execution_count": 9,
   "id": "3a419ae5",
   "metadata": {},
   "outputs": [],
   "source": [
    "#Salvando a matriz\n",
    "\n",
    "#Converção\n",
    "MatrizFinal = np.reshape(Caracteristicas,(10*2432,8*10))\n",
    "\n",
    "save = pd.DataFrame(MatrizFinal)\n",
    "save.to_csv('C:\\\\Users\\\\carlo\\\\OneDrive\\\\Documentos\\\\GitHub\\\\Faculdade\\\\Jupyter\\\\Qualidade_De_Energia\\\\Exercicios\\\\MatrizFinal.csv',header=None,index=None)\n"
   ]
  },
  {
   "cell_type": "code",
   "execution_count": 3,
   "id": "fc2336d8",
   "metadata": {},
   "outputs": [
    {
     "data": {
      "text/plain": [
       "['DESCR', 'data', 'feature_names', 'frame', 'target', 'target_names']"
      ]
     },
     "execution_count": 3,
     "metadata": {},
     "output_type": "execute_result"
    }
   ],
   "source": [
    "import numpy as np\n",
    "import pandas as pd\n",
    "from sklearn.datasets import load_wine\n",
    "from sklearn.datasets import load_iris\n",
    "from sklearn import preprocessing\n",
    "from sklearn.model_selection import train_test_split\n",
    "from sklearn import metrics \n",
    "from sklearn.tree import DecisionTreeClassifier \n",
    "\n",
    "\n",
    "#Banco de dados \n",
    "Wine_Data = load_wine()\n",
    "Iris_Data = load_iris()\n",
    "\n",
    "dir(Wine_Data) #lista de atributos\n",
    "\n",
    "#Carregando dados\n",
    "dados = pd.DataFrame(data= np.c_[Wine_Data['data'], Wine_Data['target']],columns= Wine_Data['feature_names'] + ['target'])\n",
    "\n",
    "# Separando em dados de entrada e saída\n",
    "feature_cols = ['alcohol', 'malic_acid', 'ash', 'alcalinity_of_ash','magnesium','total_phenols','flavanoids', 'nonflavanoid_phenols', 'proanthocyanins', 'color_intensity', 'hue', 'od280/od315_of_diluted_wines', 'proline']\n",
    "\n",
    "X = dados[feature_cols].values # entrada\n",
    "y = dados['target'].values # saída\n",
    "\n",
    "# Separando os dados em treinamento e teste\n",
    "X_train, X_test, y_train, y_test = train_test_split(X, y, test_size=0.3, random_state=1) # 70% treinamento and 30% teste\n",
    "\n",
    "# Criando o objeto classificador\n",
    "clf = DecisionTreeClassifier()\n",
    "\n",
    "# Treinando o classificador\n",
    "clf = clf.fit(X_train,y_train)\n",
    "\n",
    "# Testando o classificador criado\n",
    "y_pred = clf.predict(X_test)\n",
    "\n",
    "# Calculando a acurácia do classificador\n",
    "acc = metrics.accuracy_score(y_test, y_pred)\n",
    "\n",
    "dir(Wine_Data)\n",
    "#print(Wine_Data.data)\n",
    "\n",
    "\n",
    "#print('De uma amostra de teste de',+len(y_pred), 'valores, temos: \\n')\n",
    "#print('Valores testados')\n",
    "#for i in range(3):\n",
    "#    print(np.count_nonzero(y_pred == i),'da classe',+i)\n",
    "\n",
    "#print('\\nValores Reais')\n",
    "#for i in range(3):\n",
    "#    print(np.count_nonzero(y_test == i),'da classe',+i)"
   ]
  },
  {
   "cell_type": "code",
   "execution_count": null,
   "id": "e9801d67",
   "metadata": {},
   "outputs": [],
   "source": []
  }
 ],
 "metadata": {
  "kernelspec": {
   "display_name": "Python 3",
   "language": "python",
   "name": "python3"
  },
  "language_info": {
   "codemirror_mode": {
    "name": "ipython",
    "version": 3
   },
   "file_extension": ".py",
   "mimetype": "text/x-python",
   "name": "python",
   "nbconvert_exporter": "python",
   "pygments_lexer": "ipython3",
   "version": "3.7.7"
  }
 },
 "nbformat": 4,
 "nbformat_minor": 5
}
