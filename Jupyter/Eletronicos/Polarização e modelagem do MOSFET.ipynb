{
 "cells": [
  {
   "cell_type": "markdown",
   "id": "1106defd",
   "metadata": {},
   "source": [
    "# Bibliotecas"
   ]
  },
  {
   "cell_type": "code",
   "execution_count": 2,
   "id": "78cdedf4",
   "metadata": {},
   "outputs": [],
   "source": [
    "import numpy as np\n",
    "import sympy\n",
    "import matplotlib.pyplot as plt\n",
    "from matplotlib.pyplot import figure"
   ]
  },
  {
   "cell_type": "markdown",
   "id": "39793c8f",
   "metadata": {},
   "source": [
    "## Componentes"
   ]
  },
  {
   "cell_type": "code",
   "execution_count": 3,
   "id": "f08b0d44",
   "metadata": {},
   "outputs": [],
   "source": [
    "K = 10**3\n",
    "u = 10**-6\n",
    "m = 10**-3\n",
    "M = 10**6\n",
    "\n",
    "## REAL\n",
    "#Resistores\n",
    "Rg1 = 1*M\n",
    "Rg2 = 1*M\n",
    "Rs = 10\n",
    "Rl = 10*K\n",
    "Rd = 680\n",
    "\n",
    "#Capacitores\n",
    "Cin = 1*u\n",
    "Co = 1*u\n",
    "\n",
    "#OUTROS\n",
    "Vcc = 15\n",
    "Vt = 2.236\n",
    "k = 0.046609"
   ]
  },
  {
   "cell_type": "code",
   "execution_count": 12,
   "id": "architectural-triangle",
   "metadata": {},
   "outputs": [
    {
     "data": {
      "text/plain": [
       "[0.0135022017594912, 0.0167529417815872]"
      ]
     },
     "execution_count": 12,
     "metadata": {},
     "output_type": "execute_result"
    }
   ],
   "source": [
    "Id  = sympy.symbols('Id')\n",
    "expr = (k*(((((Rg1/(Rg1+Rg2))*(Vcc-(Rd*Id))) - (Rs*Id)) - Vt)**2)) - Id\n",
    "solucao = sympy.solve(expr, Id)\n",
    "Id = solucao[0]\n",
    "solucao"
   ]
  },
  {
   "cell_type": "code",
   "execution_count": 9,
   "id": "ethical-agenda",
   "metadata": {},
   "outputs": [
    {
     "data": {
      "text/latex": [
       "$\\displaystyle 5.6834807859511$"
      ],
      "text/plain": [
       "5.68348078595110"
      ]
     },
     "execution_count": 9,
     "metadata": {},
     "output_type": "execute_result"
    }
   ],
   "source": [
    "Vd = Vcc - (Rd*Id)\n",
    "Vs = Rs*Id\n",
    "\n",
    "Vds = Vd - Vs\n",
    "Vds"
   ]
  },
  {
   "cell_type": "code",
   "execution_count": 10,
   "id": "latin-camcorder",
   "metadata": {},
   "outputs": [
    {
     "data": {
      "text/latex": [
       "$\\displaystyle 2.77422938417809$"
      ],
      "text/plain": [
       "2.77422938417809"
      ]
     },
     "execution_count": 10,
     "metadata": {},
     "output_type": "execute_result"
    }
   ],
   "source": [
    "Vg = ((Rg1)/(Rg1+Rg2))*Vd\n",
    "Vgs = Vg - Vs\n",
    "Vgs"
   ]
  },
  {
   "cell_type": "code",
   "execution_count": 11,
   "id": "imported-reproduction",
   "metadata": {},
   "outputs": [
    {
     "data": {
      "text/latex": [
       "$\\displaystyle -2.9525073442782$"
      ],
      "text/plain": [
       "-2.95250734427820"
      ]
     },
     "execution_count": 11,
     "metadata": {},
     "output_type": "execute_result"
    }
   ],
   "source": [
    "Gm = Id/Vgs\n",
    "Req = (Rd*Rl)/(Rd+Rl)\n",
    "\n",
    "\n",
    "num = (((Gm*Rg2)/(1+(Gm*Rs))) - 1)\n",
    "den = (1+ (Rg2/Req))\n",
    "Av = -(num/den)\n",
    "Av"
   ]
  },
  {
   "cell_type": "code",
   "execution_count": null,
   "id": "authentic-funeral",
   "metadata": {},
   "outputs": [],
   "source": []
  }
 ],
 "metadata": {
  "kernelspec": {
   "display_name": "Python 3",
   "language": "python",
   "name": "python3"
  },
  "language_info": {
   "codemirror_mode": {
    "name": "ipython",
    "version": 3
   },
   "file_extension": ".py",
   "mimetype": "text/x-python",
   "name": "python",
   "nbconvert_exporter": "python",
   "pygments_lexer": "ipython3",
   "version": "3.7.7"
  }
 },
 "nbformat": 4,
 "nbformat_minor": 5
}
