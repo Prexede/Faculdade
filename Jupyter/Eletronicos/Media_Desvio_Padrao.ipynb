{
 "cells": [
  {
   "cell_type": "markdown",
   "id": "1106defd",
   "metadata": {},
   "source": [
    "# Bibliotecas"
   ]
  },
  {
   "cell_type": "code",
   "execution_count": 34,
   "id": "78cdedf4",
   "metadata": {},
   "outputs": [],
   "source": [
    "import math\n",
    "import numpy as np"
   ]
  },
  {
   "cell_type": "markdown",
   "id": "39793c8f",
   "metadata": {},
   "source": [
    "## Componentes"
   ]
  },
  {
   "cell_type": "code",
   "execution_count": 50,
   "id": "f08b0d44",
   "metadata": {},
   "outputs": [],
   "source": [
    "##AUXILIARES\n",
    "K = 10**3\n",
    "u = 10**-6\n",
    "m = 10**-3\n",
    "\n",
    "##QTD DE DADOS\n",
    "n = 4\n",
    "\n",
    "##Declaracao do vetor\n",
    "Val = np.zeros(n)\n",
    "\n",
    "##VALORES A SEREM CALCULADOS\n",
    "Val[0] = 26.62\n",
    "Val[1] = 25.69\n",
    "Val[2] = 25.23\n",
    "Val[3] = 26.34\n"
   ]
  },
  {
   "cell_type": "markdown",
   "id": "framed-pittsburgh",
   "metadata": {},
   "source": [
    "## Media"
   ]
  },
  {
   "cell_type": "code",
   "execution_count": 51,
   "id": "suspended-orientation",
   "metadata": {},
   "outputs": [
    {
     "name": "stdout",
     "output_type": "stream",
     "text": [
      "25.970000000000002\n"
     ]
    }
   ],
   "source": [
    "Ma = sum(Val)/n\n",
    "print(Ma)"
   ]
  },
  {
   "cell_type": "markdown",
   "id": "83e93932",
   "metadata": {},
   "source": [
    "## Desvio padrao"
   ]
  },
  {
   "cell_type": "code",
   "execution_count": 52,
   "id": "41ee2f50",
   "metadata": {},
   "outputs": [
    {
     "name": "stdout",
     "output_type": "stream",
     "text": [
      "Desvio padrão é +- 0.5443803817185185\n"
     ]
    }
   ],
   "source": [
    "Soma = 0\n",
    "\n",
    "for i in range(n):\n",
    "    Soma = ((Val[i] - Ma)**2) + Soma\n",
    "    \n",
    "Dp = math.sqrt(Soma/n)\n",
    "print (\"Desvio padrão é +-\", Dp)"
   ]
  },
  {
   "cell_type": "code",
   "execution_count": null,
   "id": "considerable-doubt",
   "metadata": {},
   "outputs": [],
   "source": []
  }
 ],
 "metadata": {
  "kernelspec": {
   "display_name": "Python 3 (ipykernel)",
   "language": "python",
   "name": "python3"
  },
  "language_info": {
   "codemirror_mode": {
    "name": "ipython",
    "version": 3
   },
   "file_extension": ".py",
   "mimetype": "text/x-python",
   "name": "python",
   "nbconvert_exporter": "python",
   "pygments_lexer": "ipython3",
   "version": "3.9.7"
  }
 },
 "nbformat": 4,
 "nbformat_minor": 5
}
